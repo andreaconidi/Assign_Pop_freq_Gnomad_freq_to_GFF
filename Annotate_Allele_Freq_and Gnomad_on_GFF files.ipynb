{
 "cells": [
  {
   "cell_type": "markdown",
   "metadata": {},
   "source": [
    "1. Extract Relevant Information from the .gff Files \n",
    "\n",
    "\n",
    "\n",
    "The .gff files already have detailed SNP data, including the Chr, Start position, and possibly the reference/alternate allele in the description column. Extract this information as it is necessary for matching with population frequency databases like GnomAD.\n",
    "\n",
    "Parse the .gff file to extract:\n",
    "Chromosome (Chr)\n",
    "Position (Start position or End position if necessary)\n",
    "Reference allele and alternate allele (if available in the description column).\n",
    "Tools: Python with pandas, re for regex parsing, or pybedtools."
   ]
  },
  {
   "cell_type": "code",
   "execution_count": null,
   "metadata": {},
   "outputs": [],
   "source": [
    "import pandas as pd\n",
    "import re\n",
    "\n",
    "# Load the GFF file\n",
    "def load_gff(file_path):\n",
    "    # Read the GFF file, assuming no header and tab-separated values\n",
    "    gff = pd.read_csv(file_path, sep=\"\\t\", header=None, comment=\"#\")\n",
    "    gff.columns = [\n",
    "        \"Chr\", \"SNP_caller\", \"Feature_Type\", \"Start\", \"End\",\n",
    "        \"Quality\", \"Strand\", \"Codon_phase\", \"Description\"\n",
    "    ]\n",
    "    return gff\n",
    "\n",
    "# Extract relevant fields from the 'Description' column\n",
    "def extract_snp_info(gff_df):\n",
    "    # Extract Ref allele from the 'Description' field\n",
    "    gff_df['Ref'] = gff_df['Description'].str.extract(r'Ref=([A-Za-z]+)')\n",
    "    # Extract Alt allele from the 'Description' field\n",
    "    gff_df['Alt'] = gff_df['Description'].str.extract(r'Alt=([A-Za-z]+)')\n",
    "    # Extract additional details like dbSNP ID if present\n",
    "    gff_df['dbSNP_ID'] = gff_df['Description'].str.extract(r'dbSNP=([rs\\d]+)')\n",
    "    return gff_df\n",
    "\n",
    "# Save the processed data to a new file\n",
    "def save_processed_data(gff_df, output_path):\n",
    "    # Keep only necessary columns\n",
    "    processed_df = gff_df[[\"Chr\", \"Start\", \"End\", \"Ref\", \"Alt\", \"dbSNP_ID\"]]\n",
    "    processed_df.to_csv(output_path, sep=\"\\t\", index=False)\n",
    "    print(f\"Processed data saved to {output_path}\")\n",
    "\n",
    "# Main function\n",
    "def main():\n",
    "    input_file = \"example.gff\"  # Path to your GFF file\n",
    "    output_file = \"processed_snp_data.tsv\"  # Output file for processed SNP data\n",
    "    \n",
    "    print(\"Loading GFF file...\")\n",
    "    gff_data = load_gff(input_file)\n",
    "    \n",
    "    print(\"Extracting SNP information...\")\n",
    "    processed_data = extract_snp_info(gff_data)\n",
    "    \n",
    "    print(\"Saving processed data...\")\n",
    "    save_processed_data(processed_data, output_file)\n",
    "    print(\"Processing complete.\")\n",
    "\n",
    "# Run the script\n",
    "if __name__ == \"__main__\":\n",
    "    main()\n"
   ]
  },
  {
   "cell_type": "markdown",
   "metadata": {},
   "source": [
    "2. Obtain Population Frequency Data\n",
    "Download population frequency data, such as GnomAD or dbSNP, which includes:\n",
    "\n",
    "Chromosome\n",
    "\n",
    "Position\n",
    "\n",
    "Reference allele\n",
    "\n",
    "Alternate allele\n",
    "\n",
    "Population frequencies (e.g., global, specific populations).\n",
    "\n",
    "GnomAD:\n",
    "\n",
    "Download VCF files from gnomad.broadinstitute.org.\n",
    "dbSNP:\n",
    "\n",
    "Download the relevant build for GRCh37/hg19 from NCBI's dbSNP.\n",
    "\n",
    "\n",
    "3. Convert Population Frequency Data to a Queryable Format\n",
    "VCF files are large and need preprocessing:\n",
    "\n",
    "Use tools like bcftools, tabix, or Python libraries (pysam, cyvcf2) to extract necessary columns and filter the dataset to match your .gff data.\n",
    "Alternatively, convert the VCF to a more efficient format (e.g., TSV or SQLite)."
   ]
  },
  {
   "cell_type": "code",
   "execution_count": null,
   "metadata": {},
   "outputs": [],
   "source": [
    "\n",
    "#bash\n",
    "bcftools query -f '%CHROM\\t%POS\\t%REF\\t%ALT\\t%INFO.AF\\n' gnomad.vcf.gz > gnomad_af.tsv\n",
    "\n",
    "#####\n",
    "\n",
    "\n",
    "# Load population frequency data\n",
    "gnomad = pd.read_csv(\"gnomad_af.tsv\", sep=\"\\t\", names=[\"Chr\", \"Position\", \"Ref\", \"Alt\", \"AF\"])\n",
    "\n"
   ]
  },
  {
   "cell_type": "markdown",
   "metadata": {},
   "source": [
    "4. Match .gff Data with Population Frequency Data\n",
    "Use Python or another scripting language to annotate the .gff file with frequency data.\n",
    "\n",
    "Approach:\n",
    "\n",
    "Load both .gff and population frequency data into memory (e.g., as pandas dataframes).\n",
    "Merge them on:\n",
    "Chromosome\n",
    "Position\n",
    "Reference and alternate alleles (if available).\n",
    "Insert frequency data into the .gff file."
   ]
  },
  {
   "cell_type": "code",
   "execution_count": null,
   "metadata": {},
   "outputs": [],
   "source": [
    "# Merge on Chromosome, Position, Ref, and Alt\n",
    "annotated_gff = gff.merge(gnomad, left_on=[\"Chr\", \"Start\", \"Ref\", \"Alt\"], \n",
    "                          right_on=[\"Chr\", \"Position\", \"Ref\", \"Alt\"], how=\"left\")\n",
    "\n",
    "# Save the annotated GFF\n",
    "annotated_gff.to_csv(\"annotated_file.gff\", sep=\"\\t\", index=False)"
   ]
  }
 ],
 "metadata": {
  "language_info": {
   "name": "python"
  }
 },
 "nbformat": 4,
 "nbformat_minor": 2
}
